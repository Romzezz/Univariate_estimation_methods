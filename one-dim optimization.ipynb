{
 "cells": [
  {
   "cell_type": "code",
   "execution_count": 24,
   "metadata": {},
   "outputs": [],
   "source": [
    "from IPython.display import display, HTML\n",
    "import sympy as sp\n",
    "import numpy as np\n",
    "import pandas as pd\n",
    "import random\n",
    "import warnings\n",
    "import matplotlib.pyplot as plt\n",
    "import time\n",
    "import plotly.graph_objects as go\n",
    "warnings.filterwarnings('ignore')"
   ]
  },
  {
   "cell_type": "code",
   "execution_count": 2,
   "metadata": {},
   "outputs": [],
   "source": [
    "def _choose_points(func, bounds):\n",
    "    left, right = bounds\n",
    "    points = list(np.linspace(left, right, 1000))\n",
    "    for i in range(100):\n",
    "        sample = sorted(list(random.sample(points, 3)))\n",
    "        x1, x2, x3 = sample\n",
    "        if (x1 < x2 < x3) & (func(x1) > func(x2) < func(x3)):\n",
    "            return x1, x2, x3\n",
    "        \n",
    "\n",
    "def _find_center(func, x1, x2, x3):\n",
    "    if (x1, func(x1)) == (x2, func(x2)) or (x2, func(x2)) == (x3, func(x3)) or (x1, func(x1)) == (x3, func(x3)):\n",
    "        return\n",
    "    f_1, f_2, f_3 = func(x1), func(x2), func(x3)\n",
    "    a1 = (f_2 - f_1) / (x2 - x1)\n",
    "    a2 = 1/(x3 - x2)*((f_3 - f_1)/(x3 - x1) - (f_2 - f_1)/(x2 - x1))\n",
    "    center = 0.5*(x1 + x2 - a1/a2)\n",
    "    return center\n",
    "\n",
    "def _show_convergency(data):\n",
    "    print(data)\n",
    "    plt.figure()\n",
    "    plt.plot(list(range(len(data))), data)\n",
    "    plt.xlabel('iter num')\n",
    "    plt.ylabel('interval size')\n",
    "    plt.title('convergency estimation')\n",
    "    plt.show()"
   ]
  },
  {
   "cell_type": "code",
   "execution_count": 9,
   "metadata": {},
   "outputs": [],
   "source": [
    "def golden_ratio(func, bounds, accuracy=10**-5, max_iter=500, show_interim_results=False, show_convergency=False, return_data=False):\n",
    "    func = sp.sympify(func)\n",
    "    arg = list(func.free_symbols)[0]\n",
    "    func = sp.lambdify(arg, func)\n",
    "    iter_num = 0\n",
    "    \n",
    "    left, right = bounds\n",
    "    ratio = (np.sqrt(5) - 1) / 2\n",
    "    \n",
    "    interim_results = pd.DataFrame(columns=['N', 'a', 'b', 'x', 'y', 'f(x)', 'f(y)'])\n",
    "    \n",
    "    while abs(right - left) > accuracy:\n",
    "        if iter_num >= max_iter:\n",
    "            break\n",
    "            \n",
    "        x = right - ratio*(right - left)\n",
    "        y = left + ratio*(right - left)\n",
    "        \n",
    "        row = {\n",
    "            'N': iter_num,\n",
    "            'a': left,\n",
    "            'b': right,\n",
    "            'x': x,\n",
    "            'y': y,\n",
    "            'f(x)': func(x),\n",
    "            'f(y)': func(y)\n",
    "        }\n",
    "        interim_results = interim_results.append(row, ignore_index=True)\n",
    "\n",
    "        if func(x) < func(y):\n",
    "            right = y\n",
    "        else:\n",
    "            left = x\n",
    "        \n",
    "        iter_num += 1\n",
    "    \n",
    "    flag = 1 if iter_num >= max_iter else 0\n",
    "    x_min = (left + right) / 2\n",
    "    f_min = func(x_min)\n",
    "    \n",
    "    interim_results.set_index('N', inplace=True)\n",
    "    if show_interim_results:\n",
    "        display(HTML(interim_results.to_html()))\n",
    "    if show_convergency:\n",
    "        interval_sizes = list(interim_results['b'] - interim_results['a'])\n",
    "        _show_convergency(interval_sizes)\n",
    "    result = {'arg': x_min, 'func': f_min, 'flag': flag}\n",
    "    if return_data:\n",
    "        result['data'] = interim_results\n",
    "    return result"
   ]
  },
  {
   "cell_type": "code",
   "execution_count": 10,
   "metadata": {},
   "outputs": [],
   "source": [
    "def parabola_method(func, bounds, accuracy=10**-5, max_iter=500, show_interim_results=False, show_convergency=False, return_data=False):\n",
    "    func = sp.sympify(func)\n",
    "    arg = list(func.free_symbols)[0]\n",
    "    func = sp.lambdify(arg, func)\n",
    "    iter_num = 0\n",
    "    \n",
    "    left, right = bounds\n",
    "    x1, x2, x3 = left, (left + right) / 2, right\n",
    "    prev_min = (left + right) / 2\n",
    "    curr_min = _find_center(func, x1, x2, x3)\n",
    "    interim_results = pd.DataFrame(columns=['N', 'x1', 'x2', 'x3', 'u', 'f(u)'])\n",
    "    \n",
    "    while abs(curr_min - prev_min) > accuracy:\n",
    "        if iter_num >= max_iter:\n",
    "            break\n",
    "            \n",
    "        c = min(x2, curr_min)\n",
    "        d = max(x2, curr_min)\n",
    "        \n",
    "        row = {\n",
    "            'N': iter_num,\n",
    "            'x1': x1,\n",
    "            'x2': x2,\n",
    "            'x3': x3,\n",
    "            'u': curr_min,\n",
    "            'f(u)': func(curr_min)\n",
    "        }\n",
    "        interim_results = interim_results.append(row, ignore_index=True)\n",
    "        \n",
    "        if func(c) < func(d):\n",
    "            x1, x2, x3 = x1, c, d\n",
    "        else:\n",
    "            x1, x2, x3 = c, d, right\n",
    "            \n",
    "        prev_min = curr_min\n",
    "        curr_min = _find_center(func, x1, x2, x3)\n",
    "            \n",
    "        iter_num += 1\n",
    "\n",
    "    flag = 1 if iter_num >= max_iter else 0\n",
    "    interim_results.set_index('N', inplace=True)\n",
    "    if show_interim_results:\n",
    "        display(HTML(interim_results.to_html()))\n",
    "    if show_convergency:\n",
    "        interval_sizes = list(interim_results['x3'] - interim_results['x1'])\n",
    "        _show_convergency(interval_sizes)\n",
    "    result = {'arg': curr_min, 'func': func(curr_min), 'flag': flag}\n",
    "    if return_data:\n",
    "        result['data'] = interim_results\n",
    "    return result"
   ]
  },
  {
   "cell_type": "code",
   "execution_count": 11,
   "metadata": {},
   "outputs": [],
   "source": [
    "def combined_brent(func, bounds, accuracy=10**-5, max_iter=500, show_interim_results=False, show_convergency=False, return_data=False):\n",
    "    func = sp.sympify(func)\n",
    "    arg = list(func.free_symbols)[0]\n",
    "    func = sp.lambdify(arg, func)\n",
    "    iter_num = 0\n",
    "    ratio = (3 - np.sqrt(5)) / 2\n",
    "    \n",
    "    left, right = bounds\n",
    "    x_min = w = v = left + ratio*(right - left)\n",
    "    d_curr = d_prev = right - left\n",
    "    \n",
    "    interim_results = pd.DataFrame(columns=['a', 'b', 'x', 'w', 'v', 'u'])\n",
    "    \n",
    "    while max(x_min - left, right - x_min) > accuracy:\n",
    "        if iter_num >= max_iter:\n",
    "            break\n",
    "            \n",
    "        g = d_prev / 2\n",
    "        d_prev = d_curr\n",
    "        u = _find_center(func, x_min, w, v)\n",
    "        if not u or (u < left or u > right) or abs(u - x_min) > g:\n",
    "            if x_min < (left + right) / 2:\n",
    "                u = x_min + ratio*(right - x_min)\n",
    "                d_prev = right - x_min\n",
    "            else:\n",
    "                u = x_min - ratio*(x_min - left)\n",
    "                d_prev = (x_min - left)\n",
    "        d_curr = abs(u - x_min)\n",
    "        \n",
    "        row = {\n",
    "            'N': iter_num,\n",
    "            'a': left,\n",
    "            'b': right,\n",
    "            'x': x_min,\n",
    "            'w': w,\n",
    "            'v': v,\n",
    "            'u': u\n",
    "        }\n",
    "        interim_results = interim_results.append(row, ignore_index=True)\n",
    "        \n",
    "        if func(u) > func(x_min):\n",
    "            if u < x_min:\n",
    "                left = u\n",
    "            else:\n",
    "                right = u\n",
    "            if func(u) <= func(w) or w == x_min:\n",
    "                v = w\n",
    "                w = u\n",
    "            else:\n",
    "                if func(u) <= func(v) or v == x_min or v == w:\n",
    "                    v = u\n",
    "        else:\n",
    "            if u < x_min:\n",
    "                right = x_min\n",
    "            else:\n",
    "                left = x_min\n",
    "            v = w\n",
    "            w = x_min\n",
    "            x_min = u\n",
    "            \n",
    "        iter_num += 1\n",
    "        \n",
    "    flag = 1 if iter_num >= max_iter else 0\n",
    "    interim_results.set_index('N', inplace=True)\n",
    "    if show_interim_results:\n",
    "        display(HTML(interim_results.to_html()))\n",
    "    if show_convergency:\n",
    "        interval_sizes = list(interim_results['b'] - interim_results['a'])\n",
    "        _show_convergency(interval_sizes)\n",
    "    result = {'arg': x_min, 'func': func(x_min), 'flag': flag}\n",
    "    if return_data:\n",
    "        result['data'] = interim_results\n",
    "    return result"
   ]
  },
  {
   "cell_type": "code",
   "execution_count": 29,
   "metadata": {},
   "outputs": [],
   "source": [
    "def solve(compare=False):\n",
    "    func = input('Введите функцию в аналитическом виде: ')\n",
    "    bounds = input('Введите ограничения по аргументу: ')\n",
    "    bounds = tuple(map(float, map(sp.sympify, bounds.split())))\n",
    "    accuracy = input('Введите точность алгоритма (оставьте пустым для значения по умолчанию=10e-5): ')\n",
    "    accuracy = 10e-5 if not accuracy else float(accuracy)\n",
    "    max_iter = input('Введите макс. кол-во итераций (оставьте пустым для значения по умолчанию=500): ')\n",
    "    max_iter = 500 if not max_iter else int(accuracy)\n",
    "    if compare:\n",
    "        values = [['Полученное решение', 'Время выполнения (ms)', 'Количество итераций']]\n",
    "        for algorithm in (golden_ratio, parabola_method, combined_brent):\n",
    "            start = time.time()\n",
    "            result = algorithm(\n",
    "                func, bounds, accuracy=accuracy, max_iter=max_iter,\n",
    "                return_data=True\n",
    "            )\n",
    "            solution = result['arg']\n",
    "            end = time.time()\n",
    "            duration = end - start\n",
    "            iter_num = len(result['data'].index)\n",
    "            values.append([solution, duration, iter_num])\n",
    "        fig = go.Figure(data=[go.Table(header=dict(values=['Параметр', 'метод золотого сечения', 'метод парабол', 'комбинированный метод Брента']),\n",
    "                 cells=dict(values=values))])\n",
    "        fig.show()\n",
    "        return\n",
    "        \n",
    "    else:\n",
    "        method = int(input(\n",
    "        \"\"\"\n",
    "        Выберите метод решения:\n",
    "        1 - метод золотого сечения\n",
    "        2 - метод парабол\n",
    "        3 - комбинированный метод Брента\n",
    "        Метод: \n",
    "        \"\"\"\n",
    "        ))\n",
    "        show_interim_results = bool(int(input('Показать промежуточные результаты? 1-да / 0-нет: ')))\n",
    "        show_convergency = bool(int(input('Показать график сходимости? 1-да / 0-нет: ')))\n",
    "        if method == 1:\n",
    "            return golden_ratio(\n",
    "                func, bounds, accuracy=accuracy, max_iter=max_iter,\n",
    "                show_interim_results=show_interim_results, show_convergency=show_convergency\n",
    "            )\n",
    "        elif method == 2:\n",
    "            return parabola_method(\n",
    "                func, bounds, accuracy=accuracy, max_iter=max_iter,\n",
    "                show_interim_results=show_interim_results, show_convergency=show_convergency\n",
    "            )\n",
    "        elif method == 3:\n",
    "            return combined_brent(\n",
    "                func, bounds, accuracy=accuracy, max_iter=max_iter,\n",
    "                show_interim_results=show_interim_results, show_convergency=show_convergency\n",
    "            )"
   ]
  },
  {
   "cell_type": "markdown",
   "metadata": {},
   "source": [
    "## Тесты"
   ]
  },
  {
   "attachments": {
    "image.png": {
     "image/png": "[encoded data removed]"
    }
   },
   "cell_type": "markdown",
   "metadata": {},
   "source": [
    "![image.png](attachment:image.png)"
   ]
  },
  {
   "cell_type": "code",
   "execution_count": 31,
   "metadata": {},
   "outputs": [
    {
     "name": "stdout",
     "output_type": "stream",
     "text": [
      "Введите функцию в аналитическом виде: -5*x^5 + 4*x^4 - 12*x^3 + 11*x^2 - 2*x + 1\n",
      "Введите ограничения по аргументу: -0.5 0.5\n",
      "Введите точность алгоритма (оставьте пустым для значения по умолчанию=10e-5): \n",
      "Введите макс. кол-во итераций (оставьте пустым для значения по умолчанию=500): \n",
      "\n",
      "        Выберите метод решения:\n",
      "        1 - метод золотого сечения\n",
      "        2 - метод парабол\n",
      "        3 - комбинированный метод Брента\n",
      "        Метод: \n",
      "        3\n",
      "Показать промежуточные результаты? 1-да / 0-нет: 1\n",
      "Показать график сходимости? 1-да / 0-нет: 1\n"
     ]
    },
    {
     "data": {
      "text/html": [
       "<table border=\"1\" class=\"dataframe\">\n",
       "  <thead>\n",
       "    <tr style=\"text-align: right;\">\n",
       "      <th></th>\n",
       "      <th>a</th>\n",
       "      <th>b</th>\n",
       "      <th>x</th>\n",
       "      <th>w</th>\n",
       "      <th>v</th>\n",
       "      <th>u</th>\n",
       "    </tr>\n",
       "    <tr>\n",
       "      <th>N</th>\n",
       "      <th></th>\n",
       "      <th></th>\n",
       "      <th></th>\n",
       "      <th></th>\n",
       "      <th></th>\n",
       "      <th></th>\n",
       "    </tr>\n",
       "  </thead>\n",
       "  <tbody>\n",
       "    <tr>\n",
       "      <th>0.0</th>\n",
       "      <td>-0.500000</td>\n",
       "      <td>0.500000</td>\n",
       "      <td>-0.118034</td>\n",
       "      <td>-0.118034</td>\n",
       "      <td>-0.118034</td>\n",
       "      <td>0.118034</td>\n",
       "    </tr>\n",
       "    <tr>\n",
       "      <th>1.0</th>\n",
       "      <td>-0.118034</td>\n",
       "      <td>0.500000</td>\n",
       "      <td>0.118034</td>\n",
       "      <td>-0.118034</td>\n",
       "      <td>-0.118034</td>\n",
       "      <td>0.263932</td>\n",
       "    </tr>\n",
       "    <tr>\n",
       "      <th>2.0</th>\n",
       "      <td>-0.118034</td>\n",
       "      <td>0.263932</td>\n",
       "      <td>0.118034</td>\n",
       "      <td>0.263932</td>\n",
       "      <td>-0.118034</td>\n",
       "      <td>0.134553</td>\n",
       "    </tr>\n",
       "    <tr>\n",
       "      <th>3.0</th>\n",
       "      <td>-0.118034</td>\n",
       "      <td>0.134553</td>\n",
       "      <td>0.118034</td>\n",
       "      <td>0.134553</td>\n",
       "      <td>0.263932</td>\n",
       "      <td>0.104468</td>\n",
       "    </tr>\n",
       "    <tr>\n",
       "      <th>4.0</th>\n",
       "      <td>-0.118034</td>\n",
       "      <td>0.118034</td>\n",
       "      <td>0.104468</td>\n",
       "      <td>0.118034</td>\n",
       "      <td>0.134553</td>\n",
       "      <td>0.109841</td>\n",
       "    </tr>\n",
       "    <tr>\n",
       "      <th>5.0</th>\n",
       "      <td>0.104468</td>\n",
       "      <td>0.118034</td>\n",
       "      <td>0.109841</td>\n",
       "      <td>0.104468</td>\n",
       "      <td>0.118034</td>\n",
       "      <td>0.109893</td>\n",
       "    </tr>\n",
       "    <tr>\n",
       "      <th>6.0</th>\n",
       "      <td>0.104468</td>\n",
       "      <td>0.109893</td>\n",
       "      <td>0.109841</td>\n",
       "      <td>0.109893</td>\n",
       "      <td>0.104468</td>\n",
       "      <td>0.109860</td>\n",
       "    </tr>\n",
       "  </tbody>\n",
       "</table>"
      ],
      "text/plain": [
       "<IPython.core.display.HTML object>"
      ]
     },
     "metadata": {},
     "output_type": "display_data"
    },
    {
     "name": "stdout",
     "output_type": "stream",
     "text": [
      "[1.0, 0.6180339887498949, 0.38196601125010515, 0.2525871396635135, 0.2360679774997897, 0.013565789502939601, 0.0054247631784741235]\n"
     ]
    },
    {
     "data": {
      "image/png": "[encoded data removed]",
      "text/plain": [
       "<Figure size 432x288 with 1 Axes>"
      ]
     },
     "metadata": {
      "needs_background": "light"
     },
     "output_type": "display_data"
    },
    {
     "data": {
      "text/plain": [
       "{'arg': 0.10985997156890047, 'func': 0.89763297189619, 'flag': 0}"
      ]
     },
     "execution_count": 31,
     "metadata": {},
     "output_type": "execute_result"
    }
   ],
   "source": [
    "solve()"
   ]
  },
  {
   "attachments": {
    "image.png": {
     "image/png": "[encoded data removed]"
    }
   },
   "cell_type": "markdown",
   "metadata": {},
   "source": [
    "![image.png](attachment:image.png)"
   ]
  },
  {
   "cell_type": "code",
   "execution_count": 33,
   "metadata": {},
   "outputs": [
    {
     "name": "stdout",
     "output_type": "stream",
     "text": [
      "Введите функцию в аналитическом виде: (log(x-2))^2 + log((10-x))^2 - x^0.2\n",
      "Введите ограничения по аргументу: 6 9.9\n",
      "Введите точность алгоритма (оставьте пустым для значения по умолчанию=10e-5): \n",
      "Введите макс. кол-во итераций (оставьте пустым для значения по умолчанию=500): \n"
     ]
    },
    {
     "data": {
      "application/vnd.plotly.v1+json": {
       "config": {
        "plotlyServerURL": "https://plot.ly"
       },
       "data": [
        {
         "cells": {
          "values": [
           [
            "Полученное решение",
            "Время выполнения",
            "Количество итераций"
           ],
           [
            8.501558667291398,
            0.029027462005615234,
            22
           ],
           [
            8.499892119786756,
            0.09901714324951172,
            105
           ],
           [
            8.501586503881413,
            0.016005277633666992,
            11
           ]
          ]
         },
         "header": {
          "values": [
           "Параметр",
           "метод золотого сечения",
           "метод парабол",
           "комбинированный метод Брента"
          ]
         },
         "type": "table"
        }
       ],
       "layout": {
        "template": {
         "data": {
          "bar": [
           {
            "error_x": {
             "color": "#2a3f5f"
            },
            "error_y": {
             "color": "#2a3f5f"
            },
            "marker": {
             "line": {
              "color": "#E5ECF6",
              "width": 0.5
             },
             "pattern": {
              "fillmode": "overlay",
              "size": 10,
              "solidity": 0.2
             }
            },
            "type": "bar"
           }
          ],
          "barpolar": [
           {
            "marker": {
             "line": {
              "color": "#E5ECF6",
              "width": 0.5
             },
             "pattern": {
              "fillmode": "overlay",
              "size": 10,
              "solidity": 0.2
             }
            },
            "type": "barpolar"
           }
          ],
          "carpet": [
           {
            "aaxis": {
             "endlinecolor": "#2a3f5f",
             "gridcolor": "white",
             "linecolor": "white",
             "minorgridcolor": "white",
             "startlinecolor": "#2a3f5f"
            },
            "baxis": {
             "endlinecolor": "#2a3f5f",
             "gridcolor": "white",
             "linecolor": "white",
             "minorgridcolor": "white",
             "startlinecolor": "#2a3f5f"
            },
            "type": "carpet"
           }
          ],
          "choropleth": [
           {
            "colorbar": {
             "outlinewidth": 0,
             "ticks": ""
            },
            "type": "choropleth"
           }
          ],
          "contour": [
           {
            "colorbar": {
             "outlinewidth": 0,
             "ticks": ""
            },
            "colorscale": [
             [
              0,
              "#0d0887"
             ],
             [
              0.1111111111111111,
              "#46039f"
             ],
             [
              0.2222222222222222,
              "#7201a8"
             ],
             [
              0.3333333333333333,
              "#9c179e"
             ],
             [
              0.4444444444444444,
              "#bd3786"
             ],
             [
              0.5555555555555556,
              "#d8576b"
             ],
             [
              0.6666666666666666,
              "#ed7953"
             ],
             [
              0.7777777777777778,
              "#fb9f3a"
             ],
             [
              0.8888888888888888,
              "#fdca26"
             ],
             [
              1,
              "#f0f921"
             ]
            ],
            "type": "contour"
           }
          ],
          "contourcarpet": [
           {
            "colorbar": {
             "outlinewidth": 0,
             "ticks": ""
            },
            "type": "contourcarpet"
           }
          ],
          "heatmap": [
           {
            "colorbar": {
             "outlinewidth": 0,
             "ticks": ""
            },
            "colorscale": [
             [
              0,
              "#0d0887"
             ],
             [
              0.1111111111111111,
              "#46039f"
             ],
             [
              0.2222222222222222,
              "#7201a8"
             ],
             [
              0.3333333333333333,
              "#9c179e"
             ],
             [
              0.4444444444444444,
              "#bd3786"
             ],
             [
              0.5555555555555556,
              "#d8576b"
             ],
             [
              0.6666666666666666,
              "#ed7953"
             ],
             [
              0.7777777777777778,
              "#fb9f3a"
             ],
             [
              0.8888888888888888,
              "#fdca26"
             ],
             [
              1,
              "#f0f921"
             ]
            ],
            "type": "heatmap"
           }
          ],
          "heatmapgl": [
           {
            "colorbar": {
             "outlinewidth": 0,
             "ticks": ""
            },
            "colorscale": [
             [
              0,
              "#0d0887"
             ],
             [
              0.1111111111111111,
              "#46039f"
             ],
             [
              0.2222222222222222,
              "#7201a8"
             ],
             [
              0.3333333333333333,
              "#9c179e"
             ],
             [
              0.4444444444444444,
              "#bd3786"
             ],
             [
              0.5555555555555556,
              "#d8576b"
             ],
             [
              0.6666666666666666,
              "#ed7953"
             ],
             [
              0.7777777777777778,
              "#fb9f3a"
             ],
             [
              0.8888888888888888,
              "#fdca26"
             ],
             [
              1,
              "#f0f921"
             ]
            ],
            "type": "heatmapgl"
           }
          ],
          "histogram": [
           {
            "marker": {
             "pattern": {
              "fillmode": "overlay",
              "size": 10,
              "solidity": 0.2
             }
            },
            "type": "histogram"
           }
          ],
          "histogram2d": [
           {
            "colorbar": {
             "outlinewidth": 0,
             "ticks": ""
            },
            "colorscale": [
             [
              0,
              "#0d0887"
             ],
             [
              0.1111111111111111,
              "#46039f"
             ],
             [
              0.2222222222222222,
              "#7201a8"
             ],
             [
              0.3333333333333333,
              "#9c179e"
             ],
             [
              0.4444444444444444,
              "#bd3786"
             ],
             [
              0.5555555555555556,
              "#d8576b"
             ],
             [
              0.6666666666666666,
              "#ed7953"
             ],
             [
              0.7777777777777778,
              "#fb9f3a"
             ],
             [
              0.8888888888888888,
              "#fdca26"
             ],
             [
              1,
              "#f0f921"
             ]
            ],
            "type": "histogram2d"
           }
          ],
          "histogram2dcontour": [
           {
            "colorbar": {
             "outlinewidth": 0,
             "ticks": ""
            },
            "colorscale": [
             [
              0,
              "#0d0887"
             ],
             [
              0.1111111111111111,
              "#46039f"
             ],
             [
              0.2222222222222222,
              "#7201a8"
             ],
             [
              0.3333333333333333,
              "#9c179e"
             ],
             [
              0.4444444444444444,
              "#bd3786"
             ],
             [
              0.5555555555555556,
              "#d8576b"
             ],
             [
              0.6666666666666666,
              "#ed7953"
             ],
             [
              0.7777777777777778,
              "#fb9f3a"
             ],
             [
              0.8888888888888888,
              "#fdca26"
             ],
             [
              1,
              "#f0f921"
             ]
            ],
            "type": "histogram2dcontour"
           }
          ],
          "mesh3d": [
           {
            "colorbar": {
             "outlinewidth": 0,
             "ticks": ""
            },
            "type": "mesh3d"
           }
          ],
          "parcoords": [
           {
            "line": {
             "colorbar": {
              "outlinewidth": 0,
              "ticks": ""
             }
            },
            "type": "parcoords"
           }
          ],
          "pie": [
           {
            "automargin": true,
            "type": "pie"
           }
          ],
          "scatter": [
           {
            "marker": {
             "colorbar": {
              "outlinewidth": 0,
              "ticks": ""
             }
            },
            "type": "scatter"
           }
          ],
          "scatter3d": [
           {
            "line": {
             "colorbar": {
              "outlinewidth": 0,
              "ticks": ""
             }
            },
            "marker": {
             "colorbar": {
              "outlinewidth": 0,
              "ticks": ""
             }
            },
            "type": "scatter3d"
           }
          ],
          "scattercarpet": [
           {
            "marker": {
             "colorbar": {
              "outlinewidth": 0,
              "ticks": ""
             }
            },
            "type": "scattercarpet"
           }
          ],
          "scattergeo": [
           {
            "marker": {
             "colorbar": {
              "outlinewidth": 0,
              "ticks": ""
             }
            },
            "type": "scattergeo"
           }
          ],
          "scattergl": [
           {
            "marker": {
             "colorbar": {
              "outlinewidth": 0,
              "ticks": ""
             }
            },
            "type": "scattergl"
           }
          ],
          "scattermapbox": [
           {
            "marker": {
             "colorbar": {
              "outlinewidth": 0,
              "ticks": ""
             }
            },
            "type": "scattermapbox"
           }
          ],
          "scatterpolar": [
           {
            "marker": {
             "colorbar": {
              "outlinewidth": 0,
              "ticks": ""
             }
            },
            "type": "scatterpolar"
           }
          ],
          "scatterpolargl": [
           {
            "marker": {
             "colorbar": {
              "outlinewidth": 0,
              "ticks": ""
             }
            },
            "type": "scatterpolargl"
           }
          ],
          "scatterternary": [
           {
            "marker": {
             "colorbar": {
              "outlinewidth": 0,
              "ticks": ""
             }
            },
            "type": "scatterternary"
           }
          ],
          "surface": [
           {
            "colorbar": {
             "outlinewidth": 0,
             "ticks": ""
            },
            "colorscale": [
             [
              0,
              "#0d0887"
             ],
             [
              0.1111111111111111,
              "#46039f"
             ],
             [
              0.2222222222222222,
              "#7201a8"
             ],
             [
              0.3333333333333333,
              "#9c179e"
             ],
             [
              0.4444444444444444,
              "#bd3786"
             ],
             [
              0.5555555555555556,
              "#d8576b"
             ],
             [
              0.6666666666666666,
              "#ed7953"
             ],
             [
              0.7777777777777778,
              "#fb9f3a"
             ],
             [
              0.8888888888888888,
              "#fdca26"
             ],
             [
              1,
              "#f0f921"
             ]
            ],
            "type": "surface"
           }
          ],
          "table": [
           {
            "cells": {
             "fill": {
              "color": "#EBF0F8"
             },
             "line": {
              "color": "white"
             }
            },
            "header": {
             "fill": {
              "color": "#C8D4E3"
             },
             "line": {
              "color": "white"
             }
            },
            "type": "table"
           }
          ]
         },
         "layout": {
          "annotationdefaults": {
           "arrowcolor": "#2a3f5f",
           "arrowhead": 0,
           "arrowwidth": 1
          },
          "autotypenumbers": "strict",
          "coloraxis": {
           "colorbar": {
            "outlinewidth": 0,
            "ticks": ""
           }
          },
          "colorscale": {
           "diverging": [
            [
             0,
             "#8e0152"
            ],
            [
             0.1,
             "#c51b7d"
            ],
            [
             0.2,
             "#de77ae"
            ],
            [
             0.3,
             "#f1b6da"
            ],
            [
             0.4,
             "#fde0ef"
            ],
            [
             0.5,
             "#f7f7f7"
            ],
            [
             0.6,
             "#e6f5d0"
            ],
            [
             0.7,
             "#b8e186"
            ],
            [
             0.8,
             "#7fbc41"
            ],
            [
             0.9,
             "#4d9221"
            ],
            [
             1,
             "#276419"
            ]
           ],
           "sequential": [
            [
             0,
             "#0d0887"
            ],
            [
             0.1111111111111111,
             "#46039f"
            ],
            [
             0.2222222222222222,
             "#7201a8"
            ],
            [
             0.3333333333333333,
             "#9c179e"
            ],
            [
             0.4444444444444444,
             "#bd3786"
            ],
            [
             0.5555555555555556,
             "#d8576b"
            ],
            [
             0.6666666666666666,
             "#ed7953"
            ],
            [
             0.7777777777777778,
             "#fb9f3a"
            ],
            [
             0.8888888888888888,
             "#fdca26"
            ],
            [
             1,
             "#f0f921"
            ]
           ],
           "sequentialminus": [
            [
             0,
             "#0d0887"
            ],
            [
             0.1111111111111111,
             "#46039f"
            ],
            [
             0.2222222222222222,
             "#7201a8"
            ],
            [
             0.3333333333333333,
             "#9c179e"
            ],
            [
             0.4444444444444444,
             "#bd3786"
            ],
            [
             0.5555555555555556,
             "#d8576b"
            ],
            [
             0.6666666666666666,
             "#ed7953"
            ],
            [
             0.7777777777777778,
             "#fb9f3a"
            ],
            [
             0.8888888888888888,
             "#fdca26"
            ],
            [
             1,
             "#f0f921"
            ]
           ]
          },
          "colorway": [
           "#636efa",
           "#EF553B",
           "#00cc96",
           "#ab63fa",
           "#FFA15A",
           "#19d3f3",
           "#FF6692",
           "#B6E880",
           "#FF97FF",
           "#FECB52"
          ],
          "font": {
           "color": "#2a3f5f"
          },
          "geo": {
           "bgcolor": "white",
           "lakecolor": "white",
           "landcolor": "#E5ECF6",
           "showlakes": true,
           "showland": true,
           "subunitcolor": "white"
          },
          "hoverlabel": {
           "align": "left"
          },
          "hovermode": "closest",
          "mapbox": {
           "style": "light"
          },
          "paper_bgcolor": "white",
          "plot_bgcolor": "#E5ECF6",
          "polar": {
           "angularaxis": {
            "gridcolor": "white",
            "linecolor": "white",
            "ticks": ""
           },
           "bgcolor": "#E5ECF6",
           "radialaxis": {
            "gridcolor": "white",
            "linecolor": "white",
            "ticks": ""
           }
          },
          "scene": {
           "xaxis": {
            "backgroundcolor": "#E5ECF6",
            "gridcolor": "white",
            "gridwidth": 2,
            "linecolor": "white",
            "showbackground": true,
            "ticks": "",
            "zerolinecolor": "white"
           },
           "yaxis": {
            "backgroundcolor": "#E5ECF6",
            "gridcolor": "white",
            "gridwidth": 2,
            "linecolor": "white",
            "showbackground": true,
            "ticks": "",
            "zerolinecolor": "white"
           },
           "zaxis": {
            "backgroundcolor": "#E5ECF6",
            "gridcolor": "white",
            "gridwidth": 2,
            "linecolor": "white",
            "showbackground": true,
            "ticks": "",
            "zerolinecolor": "white"
           }
          },
          "shapedefaults": {
           "line": {
            "color": "#2a3f5f"
           }
          },
          "ternary": {
           "aaxis": {
            "gridcolor": "white",
            "linecolor": "white",
            "ticks": ""
           },
           "baxis": {
            "gridcolor": "white",
            "linecolor": "white",
            "ticks": ""
           },
           "bgcolor": "#E5ECF6",
           "caxis": {
            "gridcolor": "white",
            "linecolor": "white",
            "ticks": ""
           }
          },
          "title": {
           "x": 0.05
          },
          "xaxis": {
           "automargin": true,
           "gridcolor": "white",
           "linecolor": "white",
           "ticks": "",
           "title": {
            "standoff": 15
           },
           "zerolinecolor": "white",
           "zerolinewidth": 2
          },
          "yaxis": {
           "automargin": true,
           "gridcolor": "white",
           "linecolor": "white",
           "ticks": "",
           "title": {
            "standoff": 15
           },
           "zerolinecolor": "white",
           "zerolinewidth": 2
          }
         }
        }
       }
      },
      "text/html": [
       "<div>                            <div id=\"ca8acd92-636c-4cab-b213-4383b38dff34\" class=\"plotly-graph-div\" style=\"height:525px; width:100%;\"></div>            <script type=\"text/javascript\">                require([\"plotly\"], function(Plotly) {                    window.PLOTLYENV=window.PLOTLYENV || {};                                    if (document.getElementById(\"ca8acd92-636c-4cab-b213-4383b38dff34\")) {                    Plotly.newPlot(                        \"ca8acd92-636c-4cab-b213-4383b38dff34\",                        [{\"cells\":{\"values\":[[\"\\u041f\\u043e\\u043b\\u0443\\u0447\\u0435\\u043d\\u043d\\u043e\\u0435 \\u0440\\u0435\\u0448\\u0435\\u043d\\u0438\\u0435\",\"\\u0412\\u0440\\u0435\\u043c\\u044f \\u0432\\u044b\\u043f\\u043e\\u043b\\u043d\\u0435\\u043d\\u0438\\u044f\",\"\\u041a\\u043e\\u043b\\u0438\\u0447\\u0435\\u0441\\u0442\\u0432\\u043e \\u0438\\u0442\\u0435\\u0440\\u0430\\u0446\\u0438\\u0439\"],[8.501558667291398,0.029027462005615234,22],[8.499892119786756,0.09901714324951172,105],[8.501586503881413,0.016005277633666992,11]]},\"header\":{\"values\":[\"\\u041f\\u0430\\u0440\\u0430\\u043c\\u0435\\u0442\\u0440\",\"\\u043c\\u0435\\u0442\\u043e\\u0434 \\u0437\\u043e\\u043b\\u043e\\u0442\\u043e\\u0433\\u043e \\u0441\\u0435\\u0447\\u0435\\u043d\\u0438\\u044f\",\"\\u043c\\u0435\\u0442\\u043e\\u0434 \\u043f\\u0430\\u0440\\u0430\\u0431\\u043e\\u043b\",\"\\u043a\\u043e\\u043c\\u0431\\u0438\\u043d\\u0438\\u0440\\u043e\\u0432\\u0430\\u043d\\u043d\\u044b\\u0439 \\u043c\\u0435\\u0442\\u043e\\u0434 \\u0411\\u0440\\u0435\\u043d\\u0442\\u0430\"]},\"type\":\"table\"}],                        {\"template\":{\"data\":{\"bar\":[{\"error_x\":{\"color\":\"#2a3f5f\"},\"error_y\":{\"color\":\"#2a3f5f\"},\"marker\":{\"line\":{\"color\":\"#E5ECF6\",\"width\":0.5},\"pattern\":{\"fillmode\":\"overlay\",\"size\":10,\"solidity\":0.2}},\"type\":\"bar\"}],\"barpolar\":[{\"marker\":{\"line\":{\"color\":\"#E5ECF6\",\"width\":0.5},\"pattern\":{\"fillmode\":\"overlay\",\"size\":10,\"solidity\":0.2}},\"type\":\"barpolar\"}],\"carpet\":[{\"aaxis\":{\"endlinecolor\":\"#2a3f5f\",\"gridcolor\":\"white\",\"linecolor\":\"white\",\"minorgridcolor\":\"white\",\"startlinecolor\":\"#2a3f5f\"},\"baxis\":{\"endlinecolor\":\"#2a3f5f\",\"gridcolor\":\"white\",\"linecolor\":\"white\",\"minorgridcolor\":\"white\",\"startlinecolor\":\"#2a3f5f\"},\"type\":\"carpet\"}],\"choropleth\":[{\"colorbar\":{\"outlinewidth\":0,\"ticks\":\"\"},\"type\":\"choropleth\"}],\"contour\":[{\"colorbar\":{\"outlinewidth\":0,\"ticks\":\"\"},\"colorscale\":[[0.0,\"#0d0887\"],[0.1111111111111111,\"#46039f\"],[0.2222222222222222,\"#7201a8\"],[0.3333333333333333,\"#9c179e\"],[0.4444444444444444,\"#bd3786\"],[0.5555555555555556,\"#d8576b\"],[0.6666666666666666,\"#ed7953\"],[0.7777777777777778,\"#fb9f3a\"],[0.8888888888888888,\"#fdca26\"],[1.0,\"#f0f921\"]],\"type\":\"contour\"}],\"contourcarpet\":[{\"colorbar\":{\"outlinewidth\":0,\"ticks\":\"\"},\"type\":\"contourcarpet\"}],\"heatmap\":[{\"colorbar\":{\"outlinewidth\":0,\"ticks\":\"\"},\"colorscale\":[[0.0,\"#0d0887\"],[0.1111111111111111,\"#46039f\"],[0.2222222222222222,\"#7201a8\"],[0.3333333333333333,\"#9c179e\"],[0.4444444444444444,\"#bd3786\"],[0.5555555555555556,\"#d8576b\"],[0.6666666666666666,\"#ed7953\"],[0.7777777777777778,\"#fb9f3a\"],[0.8888888888888888,\"#fdca26\"],[1.0,\"#f0f921\"]],\"type\":\"heatmap\"}],\"heatmapgl\":[{\"colorbar\":{\"outlinewidth\":0,\"ticks\":\"\"},\"colorscale\":[[0.0,\"#0d0887\"],[0.1111111111111111,\"#46039f\"],[0.2222222222222222,\"#7201a8\"],[0.3333333333333333,\"#9c179e\"],[0.4444444444444444,\"#bd3786\"],[0.5555555555555556,\"#d8576b\"],[0.6666666666666666,\"#ed7953\"],[0.7777777777777778,\"#fb9f3a\"],[0.8888888888888888,\"#fdca26\"],[1.0,\"#f0f921\"]],\"type\":\"heatmapgl\"}],\"histogram\":[{\"marker\":{\"pattern\":{\"fillmode\":\"overlay\",\"size\":10,\"solidity\":0.2}},\"type\":\"histogram\"}],\"histogram2d\":[{\"colorbar\":{\"outlinewidth\":0,\"ticks\":\"\"},\"colorscale\":[[0.0,\"#0d0887\"],[0.1111111111111111,\"#46039f\"],[0.2222222222222222,\"#7201a8\"],[0.3333333333333333,\"#9c179e\"],[0.4444444444444444,\"#bd3786\"],[0.5555555555555556,\"#d8576b\"],[0.6666666666666666,\"#ed7953\"],[0.7777777777777778,\"#fb9f3a\"],[0.8888888888888888,\"#fdca26\"],[1.0,\"#f0f921\"]],\"type\":\"histogram2d\"}],\"histogram2dcontour\":[{\"colorbar\":{\"outlinewidth\":0,\"ticks\":\"\"},\"colorscale\":[[0.0,\"#0d0887\"],[0.1111111111111111,\"#46039f\"],[0.2222222222222222,\"#7201a8\"],[0.3333333333333333,\"#9c179e\"],[0.4444444444444444,\"#bd3786\"],[0.5555555555555556,\"#d8576b\"],[0.6666666666666666,\"#ed7953\"],[0.7777777777777778,\"#fb9f3a\"],[0.8888888888888888,\"#fdca26\"],[1.0,\"#f0f921\"]],\"type\":\"histogram2dcontour\"}],\"mesh3d\":[{\"colorbar\":{\"outlinewidth\":0,\"ticks\":\"\"},\"type\":\"mesh3d\"}],\"parcoords\":[{\"line\":{\"colorbar\":{\"outlinewidth\":0,\"ticks\":\"\"}},\"type\":\"parcoords\"}],\"pie\":[{\"automargin\":true,\"type\":\"pie\"}],\"scatter\":[{\"marker\":{\"colorbar\":{\"outlinewidth\":0,\"ticks\":\"\"}},\"type\":\"scatter\"}],\"scatter3d\":[{\"line\":{\"colorbar\":{\"outlinewidth\":0,\"ticks\":\"\"}},\"marker\":{\"colorbar\":{\"outlinewidth\":0,\"ticks\":\"\"}},\"type\":\"scatter3d\"}],\"scattercarpet\":[{\"marker\":{\"colorbar\":{\"outlinewidth\":0,\"ticks\":\"\"}},\"type\":\"scattercarpet\"}],\"scattergeo\":[{\"marker\":{\"colorbar\":{\"outlinewidth\":0,\"ticks\":\"\"}},\"type\":\"scattergeo\"}],\"scattergl\":[{\"marker\":{\"colorbar\":{\"outlinewidth\":0,\"ticks\":\"\"}},\"type\":\"scattergl\"}],\"scattermapbox\":[{\"marker\":{\"colorbar\":{\"outlinewidth\":0,\"ticks\":\"\"}},\"type\":\"scattermapbox\"}],\"scatterpolar\":[{\"marker\":{\"colorbar\":{\"outlinewidth\":0,\"ticks\":\"\"}},\"type\":\"scatterpolar\"}],\"scatterpolargl\":[{\"marker\":{\"colorbar\":{\"outlinewidth\":0,\"ticks\":\"\"}},\"type\":\"scatterpolargl\"}],\"scatterternary\":[{\"marker\":{\"colorbar\":{\"outlinewidth\":0,\"ticks\":\"\"}},\"type\":\"scatterternary\"}],\"surface\":[{\"colorbar\":{\"outlinewidth\":0,\"ticks\":\"\"},\"colorscale\":[[0.0,\"#0d0887\"],[0.1111111111111111,\"#46039f\"],[0.2222222222222222,\"#7201a8\"],[0.3333333333333333,\"#9c179e\"],[0.4444444444444444,\"#bd3786\"],[0.5555555555555556,\"#d8576b\"],[0.6666666666666666,\"#ed7953\"],[0.7777777777777778,\"#fb9f3a\"],[0.8888888888888888,\"#fdca26\"],[1.0,\"#f0f921\"]],\"type\":\"surface\"}],\"table\":[{\"cells\":{\"fill\":{\"color\":\"#EBF0F8\"},\"line\":{\"color\":\"white\"}},\"header\":{\"fill\":{\"color\":\"#C8D4E3\"},\"line\":{\"color\":\"white\"}},\"type\":\"table\"}]},\"layout\":{\"annotationdefaults\":{\"arrowcolor\":\"#2a3f5f\",\"arrowhead\":0,\"arrowwidth\":1},\"autotypenumbers\":\"strict\",\"coloraxis\":{\"colorbar\":{\"outlinewidth\":0,\"ticks\":\"\"}},\"colorscale\":{\"diverging\":[[0,\"#8e0152\"],[0.1,\"#c51b7d\"],[0.2,\"#de77ae\"],[0.3,\"#f1b6da\"],[0.4,\"#fde0ef\"],[0.5,\"#f7f7f7\"],[0.6,\"#e6f5d0\"],[0.7,\"#b8e186\"],[0.8,\"#7fbc41\"],[0.9,\"#4d9221\"],[1,\"#276419\"]],\"sequential\":[[0.0,\"#0d0887\"],[0.1111111111111111,\"#46039f\"],[0.2222222222222222,\"#7201a8\"],[0.3333333333333333,\"#9c179e\"],[0.4444444444444444,\"#bd3786\"],[0.5555555555555556,\"#d8576b\"],[0.6666666666666666,\"#ed7953\"],[0.7777777777777778,\"#fb9f3a\"],[0.8888888888888888,\"#fdca26\"],[1.0,\"#f0f921\"]],\"sequentialminus\":[[0.0,\"#0d0887\"],[0.1111111111111111,\"#46039f\"],[0.2222222222222222,\"#7201a8\"],[0.3333333333333333,\"#9c179e\"],[0.4444444444444444,\"#bd3786\"],[0.5555555555555556,\"#d8576b\"],[0.6666666666666666,\"#ed7953\"],[0.7777777777777778,\"#fb9f3a\"],[0.8888888888888888,\"#fdca26\"],[1.0,\"#f0f921\"]]},\"colorway\":[\"#636efa\",\"#EF553B\",\"#00cc96\",\"#ab63fa\",\"#FFA15A\",\"#19d3f3\",\"#FF6692\",\"#B6E880\",\"#FF97FF\",\"#FECB52\"],\"font\":{\"color\":\"#2a3f5f\"},\"geo\":{\"bgcolor\":\"white\",\"lakecolor\":\"white\",\"landcolor\":\"#E5ECF6\",\"showlakes\":true,\"showland\":true,\"subunitcolor\":\"white\"},\"hoverlabel\":{\"align\":\"left\"},\"hovermode\":\"closest\",\"mapbox\":{\"style\":\"light\"},\"paper_bgcolor\":\"white\",\"plot_bgcolor\":\"#E5ECF6\",\"polar\":{\"angularaxis\":{\"gridcolor\":\"white\",\"linecolor\":\"white\",\"ticks\":\"\"},\"bgcolor\":\"#E5ECF6\",\"radialaxis\":{\"gridcolor\":\"white\",\"linecolor\":\"white\",\"ticks\":\"\"}},\"scene\":{\"xaxis\":{\"backgroundcolor\":\"#E5ECF6\",\"gridcolor\":\"white\",\"gridwidth\":2,\"linecolor\":\"white\",\"showbackground\":true,\"ticks\":\"\",\"zerolinecolor\":\"white\"},\"yaxis\":{\"backgroundcolor\":\"#E5ECF6\",\"gridcolor\":\"white\",\"gridwidth\":2,\"linecolor\":\"white\",\"showbackground\":true,\"ticks\":\"\",\"zerolinecolor\":\"white\"},\"zaxis\":{\"backgroundcolor\":\"#E5ECF6\",\"gridcolor\":\"white\",\"gridwidth\":2,\"linecolor\":\"white\",\"showbackground\":true,\"ticks\":\"\",\"zerolinecolor\":\"white\"}},\"shapedefaults\":{\"line\":{\"color\":\"#2a3f5f\"}},\"ternary\":{\"aaxis\":{\"gridcolor\":\"white\",\"linecolor\":\"white\",\"ticks\":\"\"},\"baxis\":{\"gridcolor\":\"white\",\"linecolor\":\"white\",\"ticks\":\"\"},\"bgcolor\":\"#E5ECF6\",\"caxis\":{\"gridcolor\":\"white\",\"linecolor\":\"white\",\"ticks\":\"\"}},\"title\":{\"x\":0.05},\"xaxis\":{\"automargin\":true,\"gridcolor\":\"white\",\"linecolor\":\"white\",\"ticks\":\"\",\"title\":{\"standoff\":15},\"zerolinecolor\":\"white\",\"zerolinewidth\":2},\"yaxis\":{\"automargin\":true,\"gridcolor\":\"white\",\"linecolor\":\"white\",\"ticks\":\"\",\"title\":{\"standoff\":15},\"zerolinecolor\":\"white\",\"zerolinewidth\":2}}}},                        {\"responsive\": true}                    ).then(function(){\n",
       "                            \n",
       "var gd = document.getElementById('ca8acd92-636c-4cab-b213-4383b38dff34');\n",
       "var x = new MutationObserver(function (mutations, observer) {{\n",
       "        var display = window.getComputedStyle(gd).display;\n",
       "        if (!display || display === 'none') {{\n",
       "            console.log([gd, 'removed!']);\n",
       "            Plotly.purge(gd);\n",
       "            observer.disconnect();\n",
       "        }}\n",
       "}});\n",
       "\n",
       "// Listen for the removal of the full notebook cells\n",
       "var notebookContainer = gd.closest('#notebook-container');\n",
       "if (notebookContainer) {{\n",
       "    x.observe(notebookContainer, {childList: true});\n",
       "}}\n",
       "\n",
       "// Listen for the clearing of the current output cell\n",
       "var outputEl = gd.closest('.output');\n",
       "if (outputEl) {{\n",
       "    x.observe(outputEl, {childList: true});\n",
       "}}\n",
       "\n",
       "                        })                };                });            </script>        </div>"
      ]
     },
     "metadata": {},
     "output_type": "display_data"
    }
   ],
   "source": [
    "solve(compare=True)"
   ]
  },
  {
   "attachments": {
    "image.png": {
     "image/png": "[encoded data removed]"
    }
   },
   "cell_type": "markdown",
   "metadata": {},
   "source": [
    "![image.png](attachment:image.png)"
   ]
  },
  {
   "cell_type": "code",
   "execution_count": 34,
   "metadata": {},
   "outputs": [
    {
     "name": "stdout",
     "output_type": "stream",
     "text": [
      "Введите функцию в аналитическом виде: -3*x*sin(0.75*x) + exp(-2*x)\n",
      "Введите ограничения по аргументу: 0 2*pi\n",
      "Введите точность алгоритма (оставьте пустым для значения по умолчанию=10e-5): \n",
      "Введите макс. кол-во итераций (оставьте пустым для значения по умолчанию=500): \n",
      "\n",
      "        Выберите метод решения:\n",
      "        1 - метод золотого сечения\n",
      "        2 - метод парабол\n",
      "        3 - комбинированный метод Брента\n",
      "        Метод: \n",
      "        1\n",
      "Показать промежуточные результаты? 1-да / 0-нет: 0\n",
      "Показать график сходимости? 1-да / 0-нет: 0\n"
     ]
    },
    {
     "data": {
      "text/plain": [
       "{'arg': 2.706468761882862, 'func': -7.2743579699319145, 'flag': 0}"
      ]
     },
     "execution_count": 34,
     "metadata": {},
     "output_type": "execute_result"
    }
   ],
   "source": [
    "solve()"
   ]
  },
  {
   "attachments": {
    "image.png": {
     "image/png": "[encoded data removed]"
    }
   },
   "cell_type": "markdown",
   "metadata": {},
   "source": [
    "![image.png](attachment:image.png)"
   ]
  },
  {
   "cell_type": "code",
   "execution_count": 35,
   "metadata": {},
   "outputs": [
    {
     "name": "stdout",
     "output_type": "stream",
     "text": [
      "Введите функцию в аналитическом виде: exp(3*x) + 5*exp(-2*x)\n",
      "Введите ограничения по аргументу: 0 1\n",
      "Введите точность алгоритма (оставьте пустым для значения по умолчанию=10e-5): \n",
      "Введите макс. кол-во итераций (оставьте пустым для значения по умолчанию=500): \n",
      "\n",
      "        Выберите метод решения:\n",
      "        1 - метод золотого сечения\n",
      "        2 - метод парабол\n",
      "        3 - комбинированный метод Брента\n",
      "        Метод: \n",
      "        2\n",
      "Показать промежуточные результаты? 1-да / 0-нет: 0\n",
      "Показать график сходимости? 1-да / 0-нет: 0\n"
     ]
    },
    {
     "data": {
      "text/plain": [
       "{'arg': 0.24066474554275802, 'func': 5.148340681663614, 'flag': 0}"
      ]
     },
     "execution_count": 35,
     "metadata": {},
     "output_type": "execute_result"
    }
   ],
   "source": [
    "solve()"
   ]
  },
  {
   "cell_type": "code",
   "execution_count": null,
   "metadata": {},
   "outputs": [],
   "source": []
  },
  {
   "attachments": {
    "image.png": {
     "image/png": "[encoded data removed]"
    }
   },
   "cell_type": "markdown",
   "metadata": {},
   "source": [
    "![image.png](attachment:image.png)"
   ]
  },
  {
   "cell_type": "code",
   "execution_count": 36,
   "metadata": {},
   "outputs": [
    {
     "name": "stdout",
     "output_type": "stream",
     "text": [
      "Введите функцию в аналитическом виде: 0.2*x*log(x) + (x-2.3)^2\n",
      "Введите ограничения по аргументу: 0.5 2.5\n",
      "Введите точность алгоритма (оставьте пустым для значения по умолчанию=10e-5): \n",
      "Введите макс. кол-во итераций (оставьте пустым для значения по умолчанию=500): \n",
      "\n",
      "        Выберите метод решения:\n",
      "        1 - метод золотого сечения\n",
      "        2 - метод парабол\n",
      "        3 - комбинированный метод Брента\n",
      "        Метод: \n",
      "        1\n",
      "Показать промежуточные результаты? 1-да / 0-нет: 0\n",
      "Показать график сходимости? 1-да / 0-нет: 0\n"
     ]
    },
    {
     "data": {
      "text/plain": [
       "{'arg': 2.124647831409276, 'func': 0.35097788020729825, 'flag': 0}"
      ]
     },
     "execution_count": 36,
     "metadata": {},
     "output_type": "execute_result"
    }
   ],
   "source": [
    "solve()"
   ]
  }
 ],
 "metadata": {
  "kernelspec": {
   "display_name": "Python 3",
   "language": "python",
   "name": "python3"
  },
  "language_info": {
   "codemirror_mode": {
    "name": "ipython",
    "version": 3
   },
   "file_extension": ".py",
   "mimetype": "text/x-python",
   "name": "python",
   "nbconvert_exporter": "python",
   "pygments_lexer": "ipython3",
   "version": "3.8.5"
  }
 },
 "nbformat": 4,
 "nbformat_minor": 4
}
