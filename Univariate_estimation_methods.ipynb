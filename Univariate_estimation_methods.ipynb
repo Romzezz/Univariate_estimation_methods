{
  "nbformat": 4,
  "nbformat_minor": 0,
  "metadata": {
    "colab": {
      "name": "Univariate_estimation_methods.ipynb",
      "provenance": [],
      "collapsed_sections": []
    },
    "kernelspec": {
      "name": "python3",
      "display_name": "Python 3"
    },
    "language_info": {
      "name": "python"
    }
  },
  "cells": [
    {
      "cell_type": "code",
      "source": [
        "!git clone https://github.com/Romzezz/Univariate_estimation_methods.git"
      ],
      "metadata": {
        "id": "onlC0EwRVfa0"
      },
      "execution_count": null,
      "outputs": []
    },
    {
      "cell_type": "code",
      "source": [
        "from Univariate_estimation_methods.main import *"
      ],
      "metadata": {
        "id": "BeQfbn1HVN-D"
      },
      "execution_count": null,
      "outputs": []
    },
    {
      "cell_type": "code",
      "source": [
        "solve()"
      ],
      "metadata": {
        "colab": {
          "base_uri": "https://localhost:8080/",
          "height": 1000
        },
        "id": "WhUtWTPCVOTB",
        "outputId": "815ce6c2-0984-4a65-e116-f98e4001c717"
      },
      "execution_count": null,
      "outputs": [
        {
          "name": "stdout",
          "output_type": "stream",
          "text": [
            "Введите функцию в аналитическом виде: -5*x^5 + 4*x^4 - 12*x^3 + 11*x^2 - 2*x + 1\n",
            "Введите ограничения по аргументу: -0.5 0.5\n",
            "Введите точность алгоритма (оставьте пустым для значения по умолчанию=10e-5): \n",
            "Введите макс. кол-во итераций (оставьте пустым для значения по умолчанию=500): \n",
            "\n",
            "        Выберите метод решения:\n",
            "        1 - метод золотого сечения\n",
            "        2 - метод парабол\n",
            "        3 - комбинированный метод Брента\n",
            "        Метод: \n",
            "        1\n",
            "Показать промежуточные результаты? 1-да / 0-нет: 1\n",
            "Показать график сходимости? 1-да / 0-нет: 1\n"
          ]
        },
        {
          "output_type": "display_data",
          "data": {
            "text/plain": [
              "<IPython.core.display.HTML object>"
            ],
            "text/html": [
              "<table border=\"1\" class=\"dataframe\">\n",
              "  <thead>\n",
              "    <tr style=\"text-align: right;\">\n",
              "      <th></th>\n",
              "      <th>a</th>\n",
              "      <th>b</th>\n",
              "      <th>x</th>\n",
              "      <th>y</th>\n",
              "      <th>f(x)</th>\n",
              "      <th>f(y)</th>\n",
              "    </tr>\n",
              "    <tr>\n",
              "      <th>N</th>\n",
              "      <th></th>\n",
              "      <th></th>\n",
              "      <th></th>\n",
              "      <th></th>\n",
              "      <th></th>\n",
              "      <th></th>\n",
              "    </tr>\n",
              "  </thead>\n",
              "  <tbody>\n",
              "    <tr>\n",
              "      <th>0.0</th>\n",
              "      <td>-0.500000</td>\n",
              "      <td>0.500000</td>\n",
              "      <td>-0.118034</td>\n",
              "      <td>0.118034</td>\n",
              "      <td>1.409945</td>\n",
              "      <td>0.898113</td>\n",
              "    </tr>\n",
              "    <tr>\n",
              "      <th>1.0</th>\n",
              "      <td>-0.118034</td>\n",
              "      <td>0.500000</td>\n",
              "      <td>0.118034</td>\n",
              "      <td>0.263932</td>\n",
              "      <td>0.898113</td>\n",
              "      <td>1.030777</td>\n",
              "    </tr>\n",
              "    <tr>\n",
              "      <th>2.0</th>\n",
              "      <td>-0.118034</td>\n",
              "      <td>0.263932</td>\n",
              "      <td>0.027864</td>\n",
              "      <td>0.118034</td>\n",
              "      <td>0.952555</td>\n",
              "      <td>0.898113</td>\n",
              "    </tr>\n",
              "    <tr>\n",
              "      <th>3.0</th>\n",
              "      <td>0.027864</td>\n",
              "      <td>0.263932</td>\n",
              "      <td>0.118034</td>\n",
              "      <td>0.173762</td>\n",
              "      <td>0.898113</td>\n",
              "      <td>0.924499</td>\n",
              "    </tr>\n",
              "    <tr>\n",
              "      <th>4.0</th>\n",
              "      <td>0.027864</td>\n",
              "      <td>0.173762</td>\n",
              "      <td>0.083592</td>\n",
              "      <td>0.118034</td>\n",
              "      <td>0.902845</td>\n",
              "      <td>0.898113</td>\n",
              "    </tr>\n",
              "    <tr>\n",
              "      <th>5.0</th>\n",
              "      <td>0.083592</td>\n",
              "      <td>0.173762</td>\n",
              "      <td>0.118034</td>\n",
              "      <td>0.139320</td>\n",
              "      <td>0.898113</td>\n",
              "      <td>0.903665</td>\n",
              "    </tr>\n",
              "    <tr>\n",
              "      <th>6.0</th>\n",
              "      <td>0.083592</td>\n",
              "      <td>0.139320</td>\n",
              "      <td>0.104878</td>\n",
              "      <td>0.118034</td>\n",
              "      <td>0.897815</td>\n",
              "      <td>0.898113</td>\n",
              "    </tr>\n",
              "    <tr>\n",
              "      <th>7.0</th>\n",
              "      <td>0.083592</td>\n",
              "      <td>0.118034</td>\n",
              "      <td>0.096748</td>\n",
              "      <td>0.104878</td>\n",
              "      <td>0.898907</td>\n",
              "      <td>0.897815</td>\n",
              "    </tr>\n",
              "    <tr>\n",
              "      <th>8.0</th>\n",
              "      <td>0.096748</td>\n",
              "      <td>0.118034</td>\n",
              "      <td>0.104878</td>\n",
              "      <td>0.109903</td>\n",
              "      <td>0.897815</td>\n",
              "      <td>0.897633</td>\n",
              "    </tr>\n",
              "    <tr>\n",
              "      <th>9.0</th>\n",
              "      <td>0.104878</td>\n",
              "      <td>0.118034</td>\n",
              "      <td>0.109903</td>\n",
              "      <td>0.113009</td>\n",
              "      <td>0.897633</td>\n",
              "      <td>0.897705</td>\n",
              "    </tr>\n",
              "    <tr>\n",
              "      <th>10.0</th>\n",
              "      <td>0.104878</td>\n",
              "      <td>0.113009</td>\n",
              "      <td>0.107984</td>\n",
              "      <td>0.109903</td>\n",
              "      <td>0.897659</td>\n",
              "      <td>0.897633</td>\n",
              "    </tr>\n",
              "    <tr>\n",
              "      <th>11.0</th>\n",
              "      <td>0.107984</td>\n",
              "      <td>0.113009</td>\n",
              "      <td>0.109903</td>\n",
              "      <td>0.111090</td>\n",
              "      <td>0.897633</td>\n",
              "      <td>0.897644</td>\n",
              "    </tr>\n",
              "    <tr>\n",
              "      <th>12.0</th>\n",
              "      <td>0.107984</td>\n",
              "      <td>0.111090</td>\n",
              "      <td>0.109170</td>\n",
              "      <td>0.109903</td>\n",
              "      <td>0.897636</td>\n",
              "      <td>0.897633</td>\n",
              "    </tr>\n",
              "    <tr>\n",
              "      <th>13.0</th>\n",
              "      <td>0.109170</td>\n",
              "      <td>0.111090</td>\n",
              "      <td>0.109903</td>\n",
              "      <td>0.110356</td>\n",
              "      <td>0.897633</td>\n",
              "      <td>0.897635</td>\n",
              "    </tr>\n",
              "    <tr>\n",
              "      <th>14.0</th>\n",
              "      <td>0.109170</td>\n",
              "      <td>0.110356</td>\n",
              "      <td>0.109623</td>\n",
              "      <td>0.109903</td>\n",
              "      <td>0.897633</td>\n",
              "      <td>0.897633</td>\n",
              "    </tr>\n",
              "    <tr>\n",
              "      <th>15.0</th>\n",
              "      <td>0.109623</td>\n",
              "      <td>0.110356</td>\n",
              "      <td>0.109903</td>\n",
              "      <td>0.110076</td>\n",
              "      <td>0.897633</td>\n",
              "      <td>0.897633</td>\n",
              "    </tr>\n",
              "    <tr>\n",
              "      <th>16.0</th>\n",
              "      <td>0.109623</td>\n",
              "      <td>0.110076</td>\n",
              "      <td>0.109796</td>\n",
              "      <td>0.109903</td>\n",
              "      <td>0.897633</td>\n",
              "      <td>0.897633</td>\n",
              "    </tr>\n",
              "    <tr>\n",
              "      <th>17.0</th>\n",
              "      <td>0.109796</td>\n",
              "      <td>0.110076</td>\n",
              "      <td>0.109903</td>\n",
              "      <td>0.109969</td>\n",
              "      <td>0.897633</td>\n",
              "      <td>0.897633</td>\n",
              "    </tr>\n",
              "    <tr>\n",
              "      <th>18.0</th>\n",
              "      <td>0.109796</td>\n",
              "      <td>0.109969</td>\n",
              "      <td>0.109863</td>\n",
              "      <td>0.109903</td>\n",
              "      <td>0.897633</td>\n",
              "      <td>0.897633</td>\n",
              "    </tr>\n",
              "    <tr>\n",
              "      <th>19.0</th>\n",
              "      <td>0.109796</td>\n",
              "      <td>0.109903</td>\n",
              "      <td>0.109837</td>\n",
              "      <td>0.109863</td>\n",
              "      <td>0.897633</td>\n",
              "      <td>0.897633</td>\n",
              "    </tr>\n",
              "  </tbody>\n",
              "</table>"
            ]
          },
          "metadata": {}
        },
        {
          "output_type": "stream",
          "name": "stdout",
          "text": [
            "[1.0, 0.6180339887498949, 0.3819660112501052, 0.23606797749978975, 0.14589803375031551, 0.09016994374947429, 0.05572809000084125, 0.03444185374863305, 0.0212862362522082, 0.01315561749642484, 0.008130618755783345, 0.0050249987406414814, 0.0031056200151418495, 0.001919378725499632, 0.0011862412896422314, 0.0007331374358574144, 0.00045310385378483087, 0.00028003358207258355, 0.00017307027171223344, 0.00010696331036033624]\n"
          ]
        },
        {
          "output_type": "display_data",
          "data": {
            "text/plain": [
              "<Figure size 432x288 with 1 Axes>"
            ],
            "image/png": "[encoded data removed]"
          },
          "metadata": {
            "needs_background": "light"
          }
        },
        {
          "output_type": "execute_result",
          "data": {
            "text/plain": [
              "{'arg': 0.10987031651343553, 'flag': 0, 'func': 0.8976329726825205}"
            ]
          },
          "metadata": {},
          "execution_count": 3
        }
      ]
    },
    {
      "cell_type": "code",
      "source": [
        "solve(compare=True)"
      ],
      "metadata": {
        "colab": {
          "base_uri": "https://localhost:8080/",
          "height": 615
        },
        "id": "849oGL5iVbJH",
        "outputId": "29f88dab-4801-4d12-d142-7866a0b904c4"
      },
      "execution_count": null,
      "outputs": [
        {
          "name": "stdout",
          "output_type": "stream",
          "text": [
            "Введите функцию в аналитическом виде: (log(x-2))^2 + log((10-x))^2 - x^0.2\n",
            "Введите ограничения по аргументу: 6 9.9\n",
            "Введите точность алгоритма (оставьте пустым для значения по умолчанию=10e-5): \n",
            "Введите макс. кол-во итераций (оставьте пустым для значения по умолчанию=500): \n"
          ]
        },
        {
          "output_type": "display_data",
          "data": {
            "text/html": [
              "<html>\n",
              "<head><meta charset=\"utf-8\" /></head>\n",
              "<body>\n",
              "    <div>            <script src=\"https://cdnjs.cloudflare.com/ajax/libs/mathjax/2.7.5/MathJax.js?config=TeX-AMS-MML_SVG\"></script><script type=\"text/javascript\">if (window.MathJax) {MathJax.Hub.Config({SVG: {font: \"STIX-Web\"}});}</script>                <script type=\"text/javascript\">window.PlotlyConfig = {MathJaxConfig: 'local'};</script>\n",
              "        <script src=\"https://cdn.plot.ly/plotly-2.8.3.min.js\"></script>                <div id=\"6f459015-ddbb-4641-b3f7-e8da9c725ce7\" class=\"plotly-graph-div\" style=\"height:525px; width:100%;\"></div>            <script type=\"text/javascript\">                                    window.PLOTLYENV=window.PLOTLYENV || {};                                    if (document.getElementById(\"6f459015-ddbb-4641-b3f7-e8da9c725ce7\")) {                    Plotly.newPlot(                        \"6f459015-ddbb-4641-b3f7-e8da9c725ce7\",                        [{\"cells\":{\"values\":[[\"\\u041f\\u043e\\u043b\\u0443\\u0447\\u0435\\u043d\\u043d\\u043e\\u0435 \\u0440\\u0435\\u0448\\u0435\\u043d\\u0438\\u0435\",\"\\u0412\\u0440\\u0435\\u043c\\u044f \\u0432\\u044b\\u043f\\u043e\\u043b\\u043d\\u0435\\u043d\\u0438\\u044f (ms)\",\"\\u041a\\u043e\\u043b\\u0438\\u0447\\u0435\\u0441\\u0442\\u0432\\u043e \\u0438\\u0442\\u0435\\u0440\\u0430\\u0446\\u0438\\u0439\"],[8.501558667291398,0.04826855659484863,22],[8.499892119786756,0.15955281257629395,105],[8.501586503881413,0.03346514701843262,11]]},\"header\":{\"values\":[\"\\u041f\\u0430\\u0440\\u0430\\u043c\\u0435\\u0442\\u0440\",\"\\u043c\\u0435\\u0442\\u043e\\u0434 \\u0437\\u043e\\u043b\\u043e\\u0442\\u043e\\u0433\\u043e \\u0441\\u0435\\u0447\\u0435\\u043d\\u0438\\u044f\",\"\\u043c\\u0435\\u0442\\u043e\\u0434 \\u043f\\u0430\\u0440\\u0430\\u0431\\u043e\\u043b\",\"\\u043a\\u043e\\u043c\\u0431\\u0438\\u043d\\u0438\\u0440\\u043e\\u0432\\u0430\\u043d\\u043d\\u044b\\u0439 \\u043c\\u0435\\u0442\\u043e\\u0434 \\u0411\\u0440\\u0435\\u043d\\u0442\\u0430\"]},\"type\":\"table\"}],                        {\"template\":{\"data\":{\"bar\":[{\"error_x\":{\"color\":\"#2a3f5f\"},\"error_y\":{\"color\":\"#2a3f5f\"},\"marker\":{\"line\":{\"color\":\"#E5ECF6\",\"width\":0.5},\"pattern\":{\"fillmode\":\"overlay\",\"size\":10,\"solidity\":0.2}},\"type\":\"bar\"}],\"barpolar\":[{\"marker\":{\"line\":{\"color\":\"#E5ECF6\",\"width\":0.5},\"pattern\":{\"fillmode\":\"overlay\",\"size\":10,\"solidity\":0.2}},\"type\":\"barpolar\"}],\"carpet\":[{\"aaxis\":{\"endlinecolor\":\"#2a3f5f\",\"gridcolor\":\"white\",\"linecolor\":\"white\",\"minorgridcolor\":\"white\",\"startlinecolor\":\"#2a3f5f\"},\"baxis\":{\"endlinecolor\":\"#2a3f5f\",\"gridcolor\":\"white\",\"linecolor\":\"white\",\"minorgridcolor\":\"white\",\"startlinecolor\":\"#2a3f5f\"},\"type\":\"carpet\"}],\"choropleth\":[{\"colorbar\":{\"outlinewidth\":0,\"ticks\":\"\"},\"type\":\"choropleth\"}],\"contour\":[{\"colorbar\":{\"outlinewidth\":0,\"ticks\":\"\"},\"colorscale\":[[0.0,\"#0d0887\"],[0.1111111111111111,\"#46039f\"],[0.2222222222222222,\"#7201a8\"],[0.3333333333333333,\"#9c179e\"],[0.4444444444444444,\"#bd3786\"],[0.5555555555555556,\"#d8576b\"],[0.6666666666666666,\"#ed7953\"],[0.7777777777777778,\"#fb9f3a\"],[0.8888888888888888,\"#fdca26\"],[1.0,\"#f0f921\"]],\"type\":\"contour\"}],\"contourcarpet\":[{\"colorbar\":{\"outlinewidth\":0,\"ticks\":\"\"},\"type\":\"contourcarpet\"}],\"heatmap\":[{\"colorbar\":{\"outlinewidth\":0,\"ticks\":\"\"},\"colorscale\":[[0.0,\"#0d0887\"],[0.1111111111111111,\"#46039f\"],[0.2222222222222222,\"#7201a8\"],[0.3333333333333333,\"#9c179e\"],[0.4444444444444444,\"#bd3786\"],[0.5555555555555556,\"#d8576b\"],[0.6666666666666666,\"#ed7953\"],[0.7777777777777778,\"#fb9f3a\"],[0.8888888888888888,\"#fdca26\"],[1.0,\"#f0f921\"]],\"type\":\"heatmap\"}],\"heatmapgl\":[{\"colorbar\":{\"outlinewidth\":0,\"ticks\":\"\"},\"colorscale\":[[0.0,\"#0d0887\"],[0.1111111111111111,\"#46039f\"],[0.2222222222222222,\"#7201a8\"],[0.3333333333333333,\"#9c179e\"],[0.4444444444444444,\"#bd3786\"],[0.5555555555555556,\"#d8576b\"],[0.6666666666666666,\"#ed7953\"],[0.7777777777777778,\"#fb9f3a\"],[0.8888888888888888,\"#fdca26\"],[1.0,\"#f0f921\"]],\"type\":\"heatmapgl\"}],\"histogram\":[{\"marker\":{\"pattern\":{\"fillmode\":\"overlay\",\"size\":10,\"solidity\":0.2}},\"type\":\"histogram\"}],\"histogram2d\":[{\"colorbar\":{\"outlinewidth\":0,\"ticks\":\"\"},\"colorscale\":[[0.0,\"#0d0887\"],[0.1111111111111111,\"#46039f\"],[0.2222222222222222,\"#7201a8\"],[0.3333333333333333,\"#9c179e\"],[0.4444444444444444,\"#bd3786\"],[0.5555555555555556,\"#d8576b\"],[0.6666666666666666,\"#ed7953\"],[0.7777777777777778,\"#fb9f3a\"],[0.8888888888888888,\"#fdca26\"],[1.0,\"#f0f921\"]],\"type\":\"histogram2d\"}],\"histogram2dcontour\":[{\"colorbar\":{\"outlinewidth\":0,\"ticks\":\"\"},\"colorscale\":[[0.0,\"#0d0887\"],[0.1111111111111111,\"#46039f\"],[0.2222222222222222,\"#7201a8\"],[0.3333333333333333,\"#9c179e\"],[0.4444444444444444,\"#bd3786\"],[0.5555555555555556,\"#d8576b\"],[0.6666666666666666,\"#ed7953\"],[0.7777777777777778,\"#fb9f3a\"],[0.8888888888888888,\"#fdca26\"],[1.0,\"#f0f921\"]],\"type\":\"histogram2dcontour\"}],\"mesh3d\":[{\"colorbar\":{\"outlinewidth\":0,\"ticks\":\"\"},\"type\":\"mesh3d\"}],\"parcoords\":[{\"line\":{\"colorbar\":{\"outlinewidth\":0,\"ticks\":\"\"}},\"type\":\"parcoords\"}],\"pie\":[{\"automargin\":true,\"type\":\"pie\"}],\"scatter\":[{\"marker\":{\"colorbar\":{\"outlinewidth\":0,\"ticks\":\"\"}},\"type\":\"scatter\"}],\"scatter3d\":[{\"line\":{\"colorbar\":{\"outlinewidth\":0,\"ticks\":\"\"}},\"marker\":{\"colorbar\":{\"outlinewidth\":0,\"ticks\":\"\"}},\"type\":\"scatter3d\"}],\"scattercarpet\":[{\"marker\":{\"colorbar\":{\"outlinewidth\":0,\"ticks\":\"\"}},\"type\":\"scattercarpet\"}],\"scattergeo\":[{\"marker\":{\"colorbar\":{\"outlinewidth\":0,\"ticks\":\"\"}},\"type\":\"scattergeo\"}],\"scattergl\":[{\"marker\":{\"colorbar\":{\"outlinewidth\":0,\"ticks\":\"\"}},\"type\":\"scattergl\"}],\"scattermapbox\":[{\"marker\":{\"colorbar\":{\"outlinewidth\":0,\"ticks\":\"\"}},\"type\":\"scattermapbox\"}],\"scatterpolar\":[{\"marker\":{\"colorbar\":{\"outlinewidth\":0,\"ticks\":\"\"}},\"type\":\"scatterpolar\"}],\"scatterpolargl\":[{\"marker\":{\"colorbar\":{\"outlinewidth\":0,\"ticks\":\"\"}},\"type\":\"scatterpolargl\"}],\"scatterternary\":[{\"marker\":{\"colorbar\":{\"outlinewidth\":0,\"ticks\":\"\"}},\"type\":\"scatterternary\"}],\"surface\":[{\"colorbar\":{\"outlinewidth\":0,\"ticks\":\"\"},\"colorscale\":[[0.0,\"#0d0887\"],[0.1111111111111111,\"#46039f\"],[0.2222222222222222,\"#7201a8\"],[0.3333333333333333,\"#9c179e\"],[0.4444444444444444,\"#bd3786\"],[0.5555555555555556,\"#d8576b\"],[0.6666666666666666,\"#ed7953\"],[0.7777777777777778,\"#fb9f3a\"],[0.8888888888888888,\"#fdca26\"],[1.0,\"#f0f921\"]],\"type\":\"surface\"}],\"table\":[{\"cells\":{\"fill\":{\"color\":\"#EBF0F8\"},\"line\":{\"color\":\"white\"}},\"header\":{\"fill\":{\"color\":\"#C8D4E3\"},\"line\":{\"color\":\"white\"}},\"type\":\"table\"}]},\"layout\":{\"annotationdefaults\":{\"arrowcolor\":\"#2a3f5f\",\"arrowhead\":0,\"arrowwidth\":1},\"autotypenumbers\":\"strict\",\"coloraxis\":{\"colorbar\":{\"outlinewidth\":0,\"ticks\":\"\"}},\"colorscale\":{\"diverging\":[[0,\"#8e0152\"],[0.1,\"#c51b7d\"],[0.2,\"#de77ae\"],[0.3,\"#f1b6da\"],[0.4,\"#fde0ef\"],[0.5,\"#f7f7f7\"],[0.6,\"#e6f5d0\"],[0.7,\"#b8e186\"],[0.8,\"#7fbc41\"],[0.9,\"#4d9221\"],[1,\"#276419\"]],\"sequential\":[[0.0,\"#0d0887\"],[0.1111111111111111,\"#46039f\"],[0.2222222222222222,\"#7201a8\"],[0.3333333333333333,\"#9c179e\"],[0.4444444444444444,\"#bd3786\"],[0.5555555555555556,\"#d8576b\"],[0.6666666666666666,\"#ed7953\"],[0.7777777777777778,\"#fb9f3a\"],[0.8888888888888888,\"#fdca26\"],[1.0,\"#f0f921\"]],\"sequentialminus\":[[0.0,\"#0d0887\"],[0.1111111111111111,\"#46039f\"],[0.2222222222222222,\"#7201a8\"],[0.3333333333333333,\"#9c179e\"],[0.4444444444444444,\"#bd3786\"],[0.5555555555555556,\"#d8576b\"],[0.6666666666666666,\"#ed7953\"],[0.7777777777777778,\"#fb9f3a\"],[0.8888888888888888,\"#fdca26\"],[1.0,\"#f0f921\"]]},\"colorway\":[\"#636efa\",\"#EF553B\",\"#00cc96\",\"#ab63fa\",\"#FFA15A\",\"#19d3f3\",\"#FF6692\",\"#B6E880\",\"#FF97FF\",\"#FECB52\"],\"font\":{\"color\":\"#2a3f5f\"},\"geo\":{\"bgcolor\":\"white\",\"lakecolor\":\"white\",\"landcolor\":\"#E5ECF6\",\"showlakes\":true,\"showland\":true,\"subunitcolor\":\"white\"},\"hoverlabel\":{\"align\":\"left\"},\"hovermode\":\"closest\",\"mapbox\":{\"style\":\"light\"},\"paper_bgcolor\":\"white\",\"plot_bgcolor\":\"#E5ECF6\",\"polar\":{\"angularaxis\":{\"gridcolor\":\"white\",\"linecolor\":\"white\",\"ticks\":\"\"},\"bgcolor\":\"#E5ECF6\",\"radialaxis\":{\"gridcolor\":\"white\",\"linecolor\":\"white\",\"ticks\":\"\"}},\"scene\":{\"xaxis\":{\"backgroundcolor\":\"#E5ECF6\",\"gridcolor\":\"white\",\"gridwidth\":2,\"linecolor\":\"white\",\"showbackground\":true,\"ticks\":\"\",\"zerolinecolor\":\"white\"},\"yaxis\":{\"backgroundcolor\":\"#E5ECF6\",\"gridcolor\":\"white\",\"gridwidth\":2,\"linecolor\":\"white\",\"showbackground\":true,\"ticks\":\"\",\"zerolinecolor\":\"white\"},\"zaxis\":{\"backgroundcolor\":\"#E5ECF6\",\"gridcolor\":\"white\",\"gridwidth\":2,\"linecolor\":\"white\",\"showbackground\":true,\"ticks\":\"\",\"zerolinecolor\":\"white\"}},\"shapedefaults\":{\"line\":{\"color\":\"#2a3f5f\"}},\"ternary\":{\"aaxis\":{\"gridcolor\":\"white\",\"linecolor\":\"white\",\"ticks\":\"\"},\"baxis\":{\"gridcolor\":\"white\",\"linecolor\":\"white\",\"ticks\":\"\"},\"bgcolor\":\"#E5ECF6\",\"caxis\":{\"gridcolor\":\"white\",\"linecolor\":\"white\",\"ticks\":\"\"}},\"title\":{\"x\":0.05},\"xaxis\":{\"automargin\":true,\"gridcolor\":\"white\",\"linecolor\":\"white\",\"ticks\":\"\",\"title\":{\"standoff\":15},\"zerolinecolor\":\"white\",\"zerolinewidth\":2},\"yaxis\":{\"automargin\":true,\"gridcolor\":\"white\",\"linecolor\":\"white\",\"ticks\":\"\",\"title\":{\"standoff\":15},\"zerolinecolor\":\"white\",\"zerolinewidth\":2}}}},                        {\"responsive\": true}                    ).then(function(){\n",
              "                            \n",
              "var gd = document.getElementById('6f459015-ddbb-4641-b3f7-e8da9c725ce7');\n",
              "var x = new MutationObserver(function (mutations, observer) {{\n",
              "        var display = window.getComputedStyle(gd).display;\n",
              "        if (!display || display === 'none') {{\n",
              "            console.log([gd, 'removed!']);\n",
              "            Plotly.purge(gd);\n",
              "            observer.disconnect();\n",
              "        }}\n",
              "}});\n",
              "\n",
              "// Listen for the removal of the full notebook cells\n",
              "var notebookContainer = gd.closest('#notebook-container');\n",
              "if (notebookContainer) {{\n",
              "    x.observe(notebookContainer, {childList: true});\n",
              "}}\n",
              "\n",
              "// Listen for the clearing of the current output cell\n",
              "var outputEl = gd.closest('.output');\n",
              "if (outputEl) {{\n",
              "    x.observe(outputEl, {childList: true});\n",
              "}}\n",
              "\n",
              "                        })                };                            </script>        </div>\n",
              "</body>\n",
              "</html>"
            ]
          },
          "metadata": {}
        }
      ]
    },
    {
      "cell_type": "code",
      "source": [
        "solve()"
      ],
      "metadata": {
        "colab": {
          "base_uri": "https://localhost:8080/"
        },
        "id": "UBx7vDYVV7lY",
        "outputId": "9909f1e2-3e4f-48da-db4c-3af824afc8cc"
      },
      "execution_count": null,
      "outputs": [
        {
          "name": "stdout",
          "output_type": "stream",
          "text": [
            "Введите функцию в аналитическом виде: -3*x*sin(0.75*x) + exp(-2*x)\n",
            "Введите ограничения по аргументу: 0 2*pi\n",
            "Введите точность алгоритма (оставьте пустым для значения по умолчанию=10e-5): \n",
            "Введите макс. кол-во итераций (оставьте пустым для значения по умолчанию=500): \n",
            "\n",
            "        Выберите метод решения:\n",
            "        1 - метод золотого сечения\n",
            "        2 - метод парабол\n",
            "        3 - комбинированный метод Брента\n",
            "        Метод: \n",
            "        2\n",
            "Показать промежуточные результаты? 1-да / 0-нет: 0\n",
            "Показать график сходимости? 1-да / 0-нет: 0\n"
          ]
        },
        {
          "output_type": "execute_result",
          "data": {
            "text/plain": [
              "{'arg': 2.706491993737616, 'flag': 0, 'func': -7.274357969251508}"
            ]
          },
          "metadata": {},
          "execution_count": 5
        }
      ]
    },
    {
      "cell_type": "code",
      "source": [
        "solve()"
      ],
      "metadata": {
        "colab": {
          "base_uri": "https://localhost:8080/",
          "height": 570
        },
        "id": "c-8GweItWDPv",
        "outputId": "fa9846c5-32c7-40d0-a487-c7a839a46e1f"
      },
      "execution_count": null,
      "outputs": [
        {
          "output_type": "stream",
          "name": "stdout",
          "text": [
            "Введите функцию в аналитическом виде: exp(3*x) + 5*exp(-2*x)\n",
            "Введите ограничения по аргументу: 0 1\n",
            "Введите точность алгоритма (оставьте пустым для значения по умолчанию=10e-5): \n",
            "Введите макс. кол-во итераций (оставьте пустым для значения по умолчанию=500): \n",
            "\n",
            "        Выберите метод решения:\n",
            "        1 - метод золотого сечения\n",
            "        2 - метод парабол\n",
            "        3 - комбинированный метод Брента\n",
            "        Метод: \n",
            "        3\n",
            "Показать промежуточные результаты? 1-да / 0-нет: 0\n",
            "Показать график сходимости? 1-да / 0-нет: 1\n",
            "[1.0, 0.6180339887498948, 0.3819660112501051, 0.25422562968571466, 0.018157652185924966, 0.004962600492118302, 0.00024638024277109927, 0.00023619416233749968, 0.00023601753760205124]\n"
          ]
        },
        {
          "output_type": "display_data",
          "data": {
            "text/plain": [
              "<Figure size 432x288 with 1 Axes>"
            ],
            "image/png": "[encoded data removed]"
          },
          "metadata": {
            "needs_background": "light"
          }
        },
        {
          "output_type": "execute_result",
          "data": {
            "text/plain": [
              "{'arg': 0.2407945605759671, 'flag': 0, 'func': 5.148340421395099}"
            ]
          },
          "metadata": {},
          "execution_count": 6
        }
      ]
    },
    {
      "cell_type": "code",
      "source": [
        "solve()"
      ],
      "metadata": {
        "colab": {
          "base_uri": "https://localhost:8080/"
        },
        "id": "Yy5cJOCPWMwf",
        "outputId": "b04ef589-ab37-4eaa-ea4d-16f6c3ae4086"
      },
      "execution_count": null,
      "outputs": [
        {
          "name": "stdout",
          "output_type": "stream",
          "text": [
            "Введите функцию в аналитическом виде: 0.2*x*log(x) + (x-2.3)^2\n",
            "Введите ограничения по аргументу: 0.5 2.5\n",
            "Введите точность алгоритма (оставьте пустым для значения по умолчанию=10e-5): \n",
            "Введите макс. кол-во итераций (оставьте пустым для значения по умолчанию=500): \n",
            "\n",
            "        Выберите метод решения:\n",
            "        1 - метод золотого сечения\n",
            "        2 - метод парабол\n",
            "        3 - комбинированный метод Брента\n",
            "        Метод: \n",
            "        1\n",
            "Показать промежуточные результаты? 1-да / 0-нет: 0\n",
            "Показать график сходимости? 1-да / 0-нет: 0\n"
          ]
        },
        {
          "output_type": "execute_result",
          "data": {
            "text/plain": [
              "{'arg': 2.124647831409276, 'flag': 0, 'func': 0.35097788020729825}"
            ]
          },
          "metadata": {},
          "execution_count": 7
        }
      ]
    },
    {
      "cell_type": "code",
      "source": [
        ""
      ],
      "metadata": {
        "id": "k_vqEyWvWUk0"
      },
      "execution_count": null,
      "outputs": []
    }
  ]
}